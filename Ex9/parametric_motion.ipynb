{
 "cells": [
  {
   "cell_type": "code",
   "execution_count": 1,
   "metadata": {},
   "outputs": [
    {
     "name": "stdout",
     "output_type": "stream",
     "text": [
      "Estimated 3D structure:\n",
      " [[ 0.18401615 -0.00126126  0.8195226 ]\n",
      " [ 0.11377557  0.04082501  0.89175884]\n",
      " [ 0.47271425 -0.01386475  0.65331539]\n",
      " [ 0.47471004  0.18097251  0.6339845 ]\n",
      " [ 0.06193591  0.76656447  1.24070346]\n",
      " [ 0.46635865 -0.10205408  0.58283114]\n",
      " [ 0.20799788  0.22239959  1.16049659]\n",
      " [ 0.0213952   0.22375939  1.16171725]\n",
      " [-0.02351379 -0.18632035 -0.06659168]\n",
      " [ 0.23211426 -0.08019522  0.37759384]]\n"
     ]
    }
   ],
   "source": [
    "import numpy as np\n",
    "import cv2\n",
    "\n",
    "# Function to estimate 3D structure from two views given essential matrix\n",
    "def estimate_3d_structure(E, points1, points2, K):\n",
    "    # Decompose essential matrix into rotation and translation\n",
    "    _, R, t, _ = cv2.recoverPose(E, points1, points2, K)\n",
    "\n",
    "    # Triangulate points\n",
    "    P1 = np.hstack((np.eye(3), np.zeros((3, 1)))) # First camera matrix\n",
    "    P2 = np.hstack((R, t)) # Second camera matrix with R, t\n",
    "    P1 = K @ P1\n",
    "    P2 = K @ P2\n",
    "    points_4d_hom = cv2.triangulatePoints(P1, P2, points1.T, points2.T)\n",
    "    points_3d = points_4d_hom[:3] / points_4d_hom[3]\n",
    "\n",
    "    return points_3d.T\n",
    "\n",
    "# Simulated example\n",
    "K = np.eye(3) # Intrinsic camera matrix\n",
    "E = np.eye(3) # Essential matrix for simulated data\n",
    "points1 = np.random.rand(10, 2) # Points in the first image\n",
    "points2 = np.random.rand(10, 2) # Corresponding points in the second image\n",
    "# Estimate 3D structure\n",
    "structure_3d = estimate_3d_structure(E, points1, points2, K)\n",
    "print(\"Estimated 3D structure:\\n\", structure_3d)"
   ]
  }
 ],
 "metadata": {
  "kernelspec": {
   "display_name": "Python 3",
   "language": "python",
   "name": "python3"
  },
  "language_info": {
   "codemirror_mode": {
    "name": "ipython",
    "version": 3
   },
   "file_extension": ".py",
   "mimetype": "text/x-python",
   "name": "python",
   "nbconvert_exporter": "python",
   "pygments_lexer": "ipython3",
   "version": "3.10.12"
  }
 },
 "nbformat": 4,
 "nbformat_minor": 2
}
