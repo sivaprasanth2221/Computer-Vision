{
 "cells": [
  {
   "cell_type": "code",
   "execution_count": 1,
   "metadata": {},
   "outputs": [
    {
     "name": "stdout",
     "output_type": "stream",
     "text": [
      "   Iteration     Total nfev        Cost      Cost reduction    Step norm     Optimality   \n",
      "       0              1         0.0000e+00                                    0.00e+00    \n",
      "`gtol` termination condition is satisfied.\n",
      "Function evaluations 1, initial cost 0.0000e+00, final cost 0.0000e+00, first-order optimality 0.00e+00.\n",
      "Optimized camera parameters:\n",
      " [[[1. 0. 0. 0.]\n",
      "  [0. 1. 0. 0.]\n",
      "  [0. 0. 1. 0.]]\n",
      "\n",
      " [[1. 0. 0. 0.]\n",
      "  [0. 1. 0. 0.]\n",
      "  [0. 0. 1. 0.]]]\n",
      "Optimized 3D points:\n",
      " [[0.53228892 0.25415994 0.90690294]\n",
      " [0.4866271  0.02114636 0.81909108]\n",
      " [0.75688752 0.36173023 0.75977829]\n",
      " [0.27770409 0.17993612 0.41967442]\n",
      " [0.28856247 0.77487455 0.97050187]\n",
      " [0.71232213 0.19286545 0.1363532 ]\n",
      " [0.05254343 0.67040688 0.23472403]\n",
      " [0.81176935 0.62852421 0.24731894]\n",
      " [0.15959266 0.60895955 0.21032366]\n",
      " [0.53265377 0.33855335 0.67653526]]\n"
     ]
    }
   ],
   "source": [
    "import numpy as np\n",
    "import cv2\n",
    "from scipy.optimize import least_squares\n",
    "\n",
    "# Function to project 3D points to 2D using camera matrix\n",
    "def project(points_3d, camera_params):\n",
    "    points_proj = []\n",
    "    for point in points_3d:\n",
    "        point = np.append(point, 1) # Convert to homogeneous\n",
    "        point_proj = camera_params @ point\n",
    "        point_proj /= point_proj[2] # Normalize by depth\n",
    "        points_proj.append(point_proj[:2])\n",
    "    return np.array(points_proj)\n",
    "\n",
    "# Residual function for bundle adjustment\n",
    "def residuals(params, n_cameras, n_points, camera_indices, point_indices, points_2d):\n",
    "    camera_params = params[:n_cameras * 12].reshape((n_cameras, 3, 4)) # Assuming P matrix for each camera\n",
    "    points_3d = params[n_cameras * 12:].reshape((n_points, 3))\n",
    "    points_proj = project(points_3d[point_indices], camera_params[camera_indices])\n",
    "    return (points_proj - points_2d).ravel()\n",
    "\n",
    "# Simulated data\n",
    "n_cameras = 2\n",
    "n_points = 10\n",
    "points_3d = np.random.rand(n_points, 3) # Random 3D points\n",
    "camera_params = np.array([np.eye(3, 4) for _ in range(n_cameras)]) # Identity cameras\n",
    "camera_indices = np.random.randint(0, n_cameras, n_points)\n",
    "point_indices = np.arange(n_points)\n",
    "points_2d = project(points_3d, camera_params[camera_indices])\n",
    "# Bundle adjustment using least squares\n",
    "initial_params = np.hstack((camera_params.ravel(), points_3d.ravel()))\n",
    "result = least_squares(residuals, initial_params, verbose=2, x_scale='jac', ftol=1e-4,\n",
    " args=(n_cameras, n_points, camera_indices, point_indices,\n",
    "points_2d))\n",
    "# Optimized camera parameters and 3D points\n",
    "optimized_camera_params = result.x[:n_cameras * 12].reshape((n_cameras, 3, 4))\n",
    "optimized_points_3d = result.x[n_cameras * 12:].reshape((n_points, 3))\n",
    "print(\"Optimized camera parameters:\\n\", optimized_camera_params)\n",
    "print(\"Optimized 3D points:\\n\", optimized_points_3d)"
   ]
  }
 ],
 "metadata": {
  "kernelspec": {
   "display_name": "Python 3",
   "language": "python",
   "name": "python3"
  },
  "language_info": {
   "codemirror_mode": {
    "name": "ipython",
    "version": 3
   },
   "file_extension": ".py",
   "mimetype": "text/x-python",
   "name": "python",
   "nbconvert_exporter": "python",
   "pygments_lexer": "ipython3",
   "version": "3.10.12"
  }
 },
 "nbformat": 4,
 "nbformat_minor": 2
}
